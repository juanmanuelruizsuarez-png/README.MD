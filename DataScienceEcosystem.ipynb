{
 "cells": [
  {
   "cell_type": "markdown",
   "id": "9d911f0b-dddc-46dc-8ad5-f94f6335a493",
   "metadata": {},
   "source": [
    "# Data Science Tools and Ecosystem"
   ]
  },
  {
   "cell_type": "markdown",
   "id": "d18273c3-1104-47a1-a624-f5ae76272d19",
   "metadata": {},
   "source": [
    "en este cuaderno, se resumen las herramientas y ecosistemas de la ciencia de datos"
   ]
  },
  {
   "cell_type": "markdown",
   "id": "518c1243-4997-4c87-8c6d-d973a92887a6",
   "metadata": {},
   "source": [
    "**Objetivos:**\n",
    "\n",
    " - Listar lenguajes utilizados en ciencia de datos\n",
    " - Listar bibliotecas reconocidas en ciencia de datos\n",
    " - Realizar operaciones aritmeticas\n",
    " - Hacer tablas sobre herramientas reconocidas en la ciencia de datos"
   ]
  },
  {
   "cell_type": "markdown",
   "id": "2ae0bbdd-9cab-4624-881e-b84a25b2a104",
   "metadata": {},
   "source": [
    "algunos de los lenguajes mas utilizados en la ciencia de datos son:\n",
    "\n",
    "1. R\n",
    "2. Python\n",
    "3. SQL\n",
    "4. Scala"
   ]
  },
  {
   "cell_type": "markdown",
   "id": "6177b553-862f-46f4-854b-3d4b2ef3cba1",
   "metadata": {},
   "source": [
    "Algunas de las bibliotecas mas utilizadas en la ciencia de datos son:\n",
    "\n",
    "1. umpy\n",
    "2. Pandas\n",
    "3. Matplotlid\n",
    "4. SQLAIchemy\n"
   ]
  },
  {
   "cell_type": "markdown",
   "id": "67df0caf-0028-44c3-9824-ab2c7eff3606",
   "metadata": {},
   "source": [
    "|Herramientas de Ciencia de Datos|\n",
    "|-------------------------------|\n",
    "|Jupyter|\n",
    "|RStudio|\n",
    "|Github|\n",
    "|Tensoflow|"
   ]
  },
  {
   "cell_type": "markdown",
   "id": "6d418cc2-a4be-4fc6-9e3f-75c1d70dc365",
   "metadata": {},
   "source": [
    "### A continuacion se presentan algunos ejemplos de evaluacion de expresiones aritmeticas en Python\n",
    "\n",
    "(5+5)  (1-4)  (8*3)  (1/0)"
   ]
  },
  {
   "cell_type": "code",
   "execution_count": 6,
   "id": "2e99fe62-e343-4a22-9eb6-99beb9405885",
   "metadata": {},
   "outputs": [
    {
     "name": "stdout",
     "output_type": "stream",
     "text": [
      "Esto es una expresion aritmetica simple para multiplicar y luego sumar enteros\n"
     ]
    },
    {
     "data": {
      "text/plain": [
       "17"
      ]
     },
     "execution_count": 6,
     "metadata": {},
     "output_type": "execute_result"
    }
   ],
   "source": [
    "print(\"Esto es una expresion aritmetica simple para multiplicar y luego sumar enteros\")\n",
    "\n",
    "(3*4)+5"
   ]
  },
  {
   "cell_type": "code",
   "execution_count": 7,
   "id": "ccfad628-c5b6-4971-9ce4-535c1d43660b",
   "metadata": {},
   "outputs": [
    {
     "name": "stdout",
     "output_type": "stream",
     "text": [
      "Esto convertira 200 minutos a horas diviendo por 60\n"
     ]
    },
    {
     "data": {
      "text/plain": [
       "3.3333333333333335"
      ]
     },
     "execution_count": 7,
     "metadata": {},
     "output_type": "execute_result"
    }
   ],
   "source": [
    "print(\"Esto convertira 200 minutos a horas diviendo por 60\")\n",
    "\n",
    "200/60"
   ]
  },
  {
   "cell_type": "markdown",
   "id": "1bcfa162-38d3-4f65-9d2e-200565fe6384",
   "metadata": {},
   "source": [
    "## Autor\n",
    "Juan manuel ruiz suarez"
   ]
  },
  {
   "cell_type": "code",
   "execution_count": null,
   "id": "f588fe3b-9f94-4965-8b9b-be11f46d5027",
   "metadata": {},
   "outputs": [],
   "source": []
  }
 ],
 "metadata": {
  "kernelspec": {
   "display_name": "Python 3 (ipykernel)",
   "language": "python",
   "name": "python3"
  },
  "language_info": {
   "codemirror_mode": {
    "name": "ipython",
    "version": 3
   },
   "file_extension": ".py",
   "mimetype": "text/x-python",
   "name": "python",
   "nbconvert_exporter": "python",
   "pygments_lexer": "ipython3",
   "version": "3.13.7"
  }
 },
 "nbformat": 4,
 "nbformat_minor": 5
}
